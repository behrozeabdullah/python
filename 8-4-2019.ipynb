{
 "cells": [
  {
   "cell_type": "code",
   "execution_count": 2,
   "metadata": {},
   "outputs": [
    {
     "name": "stdout",
     "output_type": "stream",
     "text": [
      "below are my favaote pizza\n",
      "creamy\n",
      "tikka\n",
      "fajita\n",
      "vegi\n",
      "malai botti\n",
      "\n",
      "below are my freind favaote pizza\n",
      "creamy\n",
      "tikka\n",
      "fajita\n",
      "vegi\n",
      "super creamy\n"
     ]
    }
   ],
   "source": [
    "freindspizza=[\"creamy\", \"tikka\", \"fajita\", \"vegi\"]\n",
    "listofpizza=freindspizza[:]\n",
    "freindspizza.append(\"malai botti\")\n",
    "listofpizza.append(\"super creamy\")\n",
    "\n",
    "print (\"below are my favaote pizza\")\n",
    "for mypizza in freindspizza:\n",
    "    print (mypizza)\n",
    "print (\"\\nbelow are my freind favaote pizza\")\n",
    "for freindpizza in listofpizza:\n",
    "    print (freindpizza)\n",
    "\n"
   ]
  },
  {
   "cell_type": "code",
   "execution_count": 29,
   "metadata": {},
   "outputs": [
    {
     "name": "stdout",
     "output_type": "stream",
     "text": [
      "ali this user is avalaible\n",
      "fatima this user is avalaible\n",
      "HAMZA this user name is already taken\n",
      "usama this user name is already taken\n",
      "Tooba this user is avalaible\n",
      "Azhar this user is avalaible\n",
      "Khani this user is avalaible\n"
     ]
    }
   ],
   "source": [
    "currentusers=[\"fahad\",\"arslan\",\"usama\",\"jawwad\",\"hamza\"]\n",
    "newuser=[\"ali\",\"fatima\",\"HAMZA\",\"usama\", \"Tooba\", \"Azhar\", \"Khani\"]\n",
    "\n",
    "for check in newuser:\n",
    "    if check.lower() in currentusers:\n",
    "        print(check +\" this user name is already taken\")\n",
    "    else:\n",
    "         print(check +' this user is avalaible')\n",
    "            "
   ]
  },
  {
   "cell_type": "code",
   "execution_count": null,
   "metadata": {},
   "outputs": [],
   "source": []
  },
  {
   "cell_type": "code",
   "execution_count": 31,
   "metadata": {},
   "outputs": [
    {
     "name": "stdout",
     "output_type": "stream",
     "text": [
      "my freind name is saad and his father name isali\n"
     ]
    }
   ],
   "source": [
    "name=\"saad\"\n",
    "F_name=\"ali\"\n",
    "print(\"my freind name is\"+\" \"+ name + \" \"+ \"and his father name is\" + F_name)"
   ]
  },
  {
   "cell_type": "code",
   "execution_count": 32,
   "metadata": {},
   "outputs": [
    {
     "name": "stdout",
     "output_type": "stream",
     "text": [
      "my freind name is saad and his father name is ali\n"
     ]
    }
   ],
   "source": [
    "print(\"my freind name is {} and his father name is {}\".format(name, F_name))"
   ]
  },
  {
   "cell_type": "code",
   "execution_count": 33,
   "metadata": {},
   "outputs": [
    {
     "name": "stdout",
     "output_type": "stream",
     "text": [
      "my freind name is saad and his father name is ali\n"
     ]
    }
   ],
   "source": [
    "print(f\"my freind name is {name} and his father name is {F_name}\")"
   ]
  },
  {
   "cell_type": "code",
   "execution_count": 34,
   "metadata": {},
   "outputs": [
    {
     "name": "stdout",
     "output_type": "stream",
     "text": [
      "my name is saad and my number is 45 num\n"
     ]
    }
   ],
   "source": [
    "num=45\n",
    "name=\"saad\"\n",
    "print(f\"my name is {name} and my number is {num} num\" )"
   ]
  },
  {
   "cell_type": "code",
   "execution_count": 35,
   "metadata": {},
   "outputs": [],
   "source": [
    "person=\"jawwad\""
   ]
  },
  {
   "cell_type": "code",
   "execution_count": 36,
   "metadata": {},
   "outputs": [
    {
     "name": "stdout",
     "output_type": "stream",
     "text": [
      "my name is jawwad\n"
     ]
    }
   ],
   "source": [
    "print('my name is {}'.format(person))"
   ]
  },
  {
   "cell_type": "code",
   "execution_count": 37,
   "metadata": {},
   "outputs": [
    {
     "name": "stdout",
     "output_type": "stream",
     "text": [
      "my name is jawwad\n"
     ]
    }
   ],
   "source": [
    "print(f\"my name is {person}\")"
   ]
  },
  {
   "cell_type": "code",
   "execution_count": 38,
   "metadata": {},
   "outputs": [],
   "source": [
    "d={\"a\":123, \"b\":456, \"c\":789}"
   ]
  },
  {
   "cell_type": "code",
   "execution_count": 46,
   "metadata": {},
   "outputs": [
    {
     "ename": "SyntaxError",
     "evalue": "invalid syntax (<ipython-input-46-53da582c8e15>, line 1)",
     "output_type": "error",
     "traceback": [
      "\u001b[1;36m  File \u001b[1;32m\"<ipython-input-46-53da582c8e15>\"\u001b[1;36m, line \u001b[1;32m1\u001b[0m\n\u001b[1;33m    print(f\"my number is{d[\"a\"]}\")\u001b[0m\n\u001b[1;37m                            ^\u001b[0m\n\u001b[1;31mSyntaxError\u001b[0m\u001b[1;31m:\u001b[0m invalid syntax\n"
     ]
    }
   ],
   "source": [
    "print(f\"my number is{d[\"a\"]}\")"
   ]
  },
  {
   "cell_type": "code",
   "execution_count": 40,
   "metadata": {},
   "outputs": [],
   "source": [
    "mylist=[1,2,3]"
   ]
  },
  {
   "cell_type": "code",
   "execution_count": 41,
   "metadata": {},
   "outputs": [
    {
     "name": "stdout",
     "output_type": "stream",
     "text": [
      "my number is 3\n"
     ]
    }
   ],
   "source": [
    "print(f\"my number is {mylist[2]}\")"
   ]
  },
  {
   "cell_type": "code",
   "execution_count": 42,
   "metadata": {},
   "outputs": [
    {
     "ename": "SyntaxError",
     "evalue": "invalid syntax (<ipython-input-42-a4a8b391d910>, line 3)",
     "output_type": "error",
     "traceback": [
      "\u001b[1;36m  File \u001b[1;32m\"<ipython-input-42-a4a8b391d910>\"\u001b[1;36m, line \u001b[1;32m3\u001b[0m\n\u001b[1;33m    (\"ahmed\", \"python\",, 500), (\"zia\", \"kube\", 300)]\u001b[0m\n\u001b[1;37m                       ^\u001b[0m\n\u001b[1;31mSyntaxError\u001b[0m\u001b[1;31m:\u001b[0m invalid syntax\n"
     ]
    }
   ],
   "source": [
    "libarary=[(\"author\", \"topeic\", \"Pages\"),\n",
    "           (\"nasir\", \"deeplearning\", 300),\n",
    "           (\"ahmed\", \"python\",, 500), (\"zia\", \"kube\", 300)]"
   ]
  },
  {
   "cell_type": "code",
   "execution_count": 47,
   "metadata": {},
   "outputs": [],
   "source": [
    "mytupple=(\"apple\", \"orange\", \"pineapple\")"
   ]
  },
  {
   "cell_type": "code",
   "execution_count": 48,
   "metadata": {},
   "outputs": [
    {
     "data": {
      "text/plain": [
       "tuple"
      ]
     },
     "execution_count": 48,
     "metadata": {},
     "output_type": "execute_result"
    }
   ],
   "source": [
    "type(mytupple)"
   ]
  },
  {
   "cell_type": "code",
   "execution_count": 49,
   "metadata": {},
   "outputs": [],
   "source": [
    "a=1,2,3,4,5,6,7,8,9,10,11"
   ]
  },
  {
   "cell_type": "code",
   "execution_count": 50,
   "metadata": {},
   "outputs": [
    {
     "name": "stdout",
     "output_type": "stream",
     "text": [
      "(1, 2, 3, 4, 5, 6, 7, 8, 9, 10, 11)\n"
     ]
    }
   ],
   "source": [
    "print(a)"
   ]
  },
  {
   "cell_type": "code",
   "execution_count": 51,
   "metadata": {},
   "outputs": [],
   "source": [
    "b,c,d,e,f,g,h,i,h,k,l=a"
   ]
  },
  {
   "cell_type": "code",
   "execution_count": 52,
   "metadata": {},
   "outputs": [
    {
     "data": {
      "text/plain": [
       "1"
      ]
     },
     "execution_count": 52,
     "metadata": {},
     "output_type": "execute_result"
    }
   ],
   "source": [
    "b"
   ]
  },
  {
   "cell_type": "code",
   "execution_count": 53,
   "metadata": {},
   "outputs": [
    {
     "data": {
      "text/plain": [
       "10"
      ]
     },
     "execution_count": 53,
     "metadata": {},
     "output_type": "execute_result"
    }
   ],
   "source": [
    "k"
   ]
  },
  {
   "cell_type": "code",
   "execution_count": null,
   "metadata": {},
   "outputs": [],
   "source": []
  }
 ],
 "metadata": {
  "kernelspec": {
   "display_name": "Python 3",
   "language": "python",
   "name": "python3"
  },
  "language_info": {
   "codemirror_mode": {
    "name": "ipython",
    "version": 3
   },
   "file_extension": ".py",
   "mimetype": "text/x-python",
   "name": "python",
   "nbconvert_exporter": "python",
   "pygments_lexer": "ipython3",
   "version": "3.7.1"
  }
 },
 "nbformat": 4,
 "nbformat_minor": 2
}
