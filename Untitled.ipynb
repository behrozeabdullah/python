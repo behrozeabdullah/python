{
 "cells": [
  {
   "cell_type": "code",
   "execution_count": 2,
   "metadata": {},
   "outputs": [],
   "source": [
    "a=\"the\""
   ]
  },
  {
   "cell_type": "code",
   "execution_count": 10,
   "metadata": {},
   "outputs": [
    {
     "ename": "TypeError",
     "evalue": "descriptor 'find' requires a 'str' object but received a 'int'",
     "output_type": "error",
     "traceback": [
      "\u001b[1;31m---------------------------------------------------------------------------\u001b[0m",
      "\u001b[1;31mTypeError\u001b[0m                                 Traceback (most recent call last)",
      "\u001b[1;32m<ipython-input-10-3a4b3c774d61>\u001b[0m in \u001b[0;36m<module>\u001b[1;34m\u001b[0m\n\u001b[1;32m----> 1\u001b[1;33m \u001b[0mstr\u001b[0m\u001b[1;33m.\u001b[0m\u001b[0mfind\u001b[0m\u001b[1;33m(\u001b[0m\u001b[1;36m0\u001b[0m\u001b[1;33m)\u001b[0m\u001b[1;33m\u001b[0m\u001b[1;33m\u001b[0m\u001b[0m\n\u001b[0m",
      "\u001b[1;31mTypeError\u001b[0m: descriptor 'find' requires a 'str' object but received a 'int'"
     ]
    }
   ],
   "source": [
    "str.find()"
   ]
  },
  {
   "cell_type": "code",
   "execution_count": 11,
   "metadata": {},
   "outputs": [
    {
     "ename": "SyntaxError",
     "evalue": "Missing parentheses in call to 'print'. Did you mean print(\"\\tATM\")? (<ipython-input-11-74b13fd3fc2f>, line 1)",
     "output_type": "error",
     "traceback": [
      "\u001b[1;36m  File \u001b[1;32m\"<ipython-input-11-74b13fd3fc2f>\"\u001b[1;36m, line \u001b[1;32m1\u001b[0m\n\u001b[1;33m    print \"\\tATM\"\u001b[0m\n\u001b[1;37m                ^\u001b[0m\n\u001b[1;31mSyntaxError\u001b[0m\u001b[1;31m:\u001b[0m Missing parentheses in call to 'print'. Did you mean print(\"\\tATM\")?\n"
     ]
    }
   ],
   "source": [
    "print \"\\tATM\"\n",
    "pinuser=[1111,2222,3333,4444,5555,6666,7777,8888,9999,1000,1212,1314,1415]\n",
    "closedbankaccountpin=[1314,1151,6666,5789,8989,1210,8888]\n",
    "\n",
    "print (\"thank you for choosing our services habib metro\")\n",
    "\n",
    "enter_your_Pin_number=int(input(\"please enter your pin in 30 second\"))\n",
    "if pinuser==enter_your_Pin_number:\n",
    "    print(\"\\tpress d for deposit\")\n",
    "    print(\"\\tpress w for withdrawl\")\n",
    "    print(\"tpress c for amount check\")\n",
    "    enter=input(\"enter\").upper()\n",
    "    if enter==A:\n",
    "        print(\"how much are you deposit\")\n",
    "        depositamount=float(input(\"type amount\"))\n",
    "    elif enter==W:\n",
    "        print(\"how much are you withdrawl\")\n",
    "        withdrawlamount=float(input(\"type amount\"))\n",
    "    else:\n",
    "        enter==pin_user\n",
    "            "
   ]
  },
  {
   "cell_type": "code",
   "execution_count": null,
   "metadata": {},
   "outputs": [],
   "source": []
  },
  {
   "cell_type": "code",
   "execution_count": null,
   "metadata": {},
   "outputs": [],
   "source": []
  }
 ],
 "metadata": {
  "kernelspec": {
   "display_name": "Python 3",
   "language": "python",
   "name": "python3"
  },
  "language_info": {
   "codemirror_mode": {
    "name": "ipython",
    "version": 3
   },
   "file_extension": ".py",
   "mimetype": "text/x-python",
   "name": "python",
   "nbconvert_exporter": "python",
   "pygments_lexer": "ipython3",
   "version": "3.7.1"
  }
 },
 "nbformat": 4,
 "nbformat_minor": 2
}
