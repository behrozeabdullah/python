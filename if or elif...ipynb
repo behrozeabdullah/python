{
 "cells": [
  {
   "cell_type": "code",
   "execution_count": 1,
   "metadata": {},
   "outputs": [
    {
     "name": "stdout",
     "output_type": "stream",
     "text": [
      "enter your name: jawwad\n",
      "your name is jawwad\n"
     ]
    }
   ],
   "source": [
    "name=input (\"enter your name: \").lower()\n",
    "if name == \"jawwad\" :\n",
    "    print ('your name is ' + name)\n",
    "else:\n",
    "    \n",
    "    print (\"No\")"
   ]
  },
  {
   "cell_type": "code",
   "execution_count": 2,
   "metadata": {},
   "outputs": [
    {
     "name": "stdout",
     "output_type": "stream",
     "text": [
      "1-got a true expression value\n",
      "566\n"
     ]
    }
   ],
   "source": [
    "var1=566\n",
    "if var1:\n",
    "    print (\"1-got a true expression value\")\n",
    "    print (var1)\n",
    "else:\n",
    "    print (\"1-got a false expression value\")\n",
    "    print (var1)"
   ]
  },
  {
   "cell_type": "code",
   "execution_count": 3,
   "metadata": {},
   "outputs": [
    {
     "name": "stdout",
     "output_type": "stream",
     "text": [
      "Today i will wear jeans or shorts? Temperature 24.95\n",
      "shorts\n"
     ]
    }
   ],
   "source": [
    "temperature=float(input(\"Today i will wear jeans or shorts? Temperature \"))\n",
    "if temperature>25:\n",
    "    print (\"paint\")\n",
    "else: \n",
    "    print (\"shorts\")\n"
   ]
  },
  {
   "cell_type": "code",
   "execution_count": 4,
   "metadata": {},
   "outputs": [
    {
     "name": "stdout",
     "output_type": "stream",
     "text": [
      "enter yours marks out of 100: 80\n",
      "grade a\n"
     ]
    }
   ],
   "source": [
    "x=float(input(\"enter yours marks out of 100: \"))\n",
    "if x > 101:\n",
    "    print (\"error\")\n",
    "elif x >=90:\n",
    "    print (\"grade a*\")\n",
    "elif x >=80:\n",
    "    print (\"grade a\")\n",
    "elif x >=70:\n",
    "    print (\"grade b\")\n",
    "elif x >=60:\n",
    "    print (\"grade c\")\n",
    "elif x >=50:\n",
    "    print (\"grade d\")\n",
    "elif x >101:\n",
    "    print (\"error\")\n",
    "else: \n",
    "    print (\"sorry! you are fail\")"
   ]
  },
  {
   "cell_type": "code",
   "execution_count": 5,
   "metadata": {},
   "outputs": [
    {
     "name": "stdout",
     "output_type": "stream",
     "text": [
      "enter your number50\n",
      "enter your number50\n",
      "enter your number50\n",
      "enter your number50\n",
      "enter your number50\n",
      "grade d\n"
     ]
    }
   ],
   "source": [
    "eng= float(input(\"enter your number\"))\n",
    "if eng >100:\n",
    "    print(\"invalid input\")\n",
    "urdu= float(input(\"enter your number\"))\n",
    "if urdu >100:\n",
    "    print(\"invalid input\")\n",
    "\n",
    "science= float(input(\"enter your number\"))\n",
    "if science >100:\n",
    "    print(\"invalid input\")\n",
    "\n",
    "it= float(input(\"enter your number\"))\n",
    "if it >100:\n",
    "    print(\"invalid input\")\n",
    "\n",
    "physics= float(input(\"enter your number\"))\n",
    "if physics >100:\n",
    "    print(\"invalid input\")\n",
    "\n",
    "\n",
    "\n",
    "total=eng + urdu + science + it + physics\n",
    "\n",
    "per= total/500*100\n",
    "\n",
    "\n",
    "if per >100:\n",
    "    print(\"Invalid marks input\")\n",
    "\n",
    "elif per >=90:\n",
    "    print (\"grade a*\")\n",
    "elif per >=80:\n",
    "    print (\"grade a\")\n",
    "elif per>=70:\n",
    "    print (\"grade b\")\n",
    "elif per>=60:\n",
    "    print (\"grade c\")\n",
    "elif per >=50:\n",
    "    print (\"grade d\")\n",
    "else: \n",
    "    print (\"sorry! you are fail\")\n"
   ]
  },
  {
   "cell_type": "code",
   "execution_count": 6,
   "metadata": {},
   "outputs": [
    {
     "name": "stdout",
     "output_type": "stream",
     "text": [
      "enter your number50\n",
      "enter your number50\n",
      "enter your number50\n",
      "enter your number50\n",
      "enter your number50\n",
      "50.0\n",
      "your percentage is 50.0\n",
      "your total marks is 250.0\n",
      "your grade is grade d\n"
     ]
    }
   ],
   "source": [
    "eng= float(input(\"enter your number\"))\n",
    "if eng >100:\n",
    "    print(\"invalid input\")\n",
    "urdu= float(input(\"enter your number\"))\n",
    "if urdu >100:\n",
    "    print(\"invalid input\")\n",
    "\n",
    "science= float(input(\"enter your number\"))\n",
    "if science >100:\n",
    "    print(\"invalid input\")\n",
    "\n",
    "it= float(input(\"enter your number\"))\n",
    "if it >100:\n",
    "    print(\"invalid input\")\n",
    "\n",
    "physics= float(input(\"enter your number\"))\n",
    "if physics >100:\n",
    "    print(\"invalid input\")\n",
    "\n",
    "\n",
    "\n",
    "total=eng + urdu + science + it + physics\n",
    "\n",
    "per= total/500*100\n",
    "\n",
    "\n",
    "if per >100:\n",
    "    grade=\"Invalid marks input\"\n",
    "\n",
    "elif per >=90:\n",
    "    grade=\"grade a*\"\n",
    "elif per >=80:\n",
    "    grade= \"grade a\"\n",
    "elif per>=70:\n",
    "    grade=\"grade b\"\n",
    "elif per>=60:\n",
    "    grade=\"grade c\"\n",
    "elif per >=50:\n",
    "    grade=\"grade d\"\n",
    "else: \n",
    "    print (\"sorry! you are fail\")\n",
    "print (per)\n",
    "\n",
    "print (\"your percentage is \"+ str(per) + \"\\n\"+ \"your total marks is \"+ str(total) + \"\\n\"+ \"your grade is \"+ str(grade))"
   ]
  },
  {
   "cell_type": "code",
   "execution_count": null,
   "metadata": {},
   "outputs": [],
   "source": []
  }
 ],
 "metadata": {
  "kernelspec": {
   "display_name": "Python 3",
   "language": "python",
   "name": "python3"
  },
  "language_info": {
   "codemirror_mode": {
    "name": "ipython",
    "version": 3
   },
   "file_extension": ".py",
   "mimetype": "text/x-python",
   "name": "python",
   "nbconvert_exporter": "python",
   "pygments_lexer": "ipython3",
   "version": "3.7.1"
  }
 },
 "nbformat": 4,
 "nbformat_minor": 2
}
