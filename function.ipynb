{
 "cells": [
  {
   "cell_type": "code",
   "execution_count": 1,
   "metadata": {},
   "outputs": [],
   "source": [
    "def function1():\n",
    "    print(\"hello\")"
   ]
  },
  {
   "cell_type": "code",
   "execution_count": 3,
   "metadata": {},
   "outputs": [
    {
     "name": "stdout",
     "output_type": "stream",
     "text": [
      "hello\n"
     ]
    }
   ],
   "source": [
    "function1()"
   ]
  },
  {
   "cell_type": "code",
   "execution_count": 5,
   "metadata": {},
   "outputs": [
    {
     "name": "stdout",
     "output_type": "stream",
     "text": [
      "hello\n",
      "hello\n",
      "hello\n",
      "hello\n",
      "hello\n",
      "hello\n",
      "hello\n"
     ]
    }
   ],
   "source": [
    "function1()\n",
    "function1()\n",
    "function1()\n",
    "function1()\n",
    "function1()\n",
    "function1()\n",
    "function1()\n"
   ]
  },
  {
   "cell_type": "code",
   "execution_count": 19,
   "metadata": {},
   "outputs": [],
   "source": [
    "def function2():\n",
    "    a=2+2*6*8+2\n",
    "    print (a)\n",
    "    "
   ]
  },
  {
   "cell_type": "code",
   "execution_count": 20,
   "metadata": {},
   "outputs": [
    {
     "name": "stdout",
     "output_type": "stream",
     "text": [
      "100\n"
     ]
    }
   ],
   "source": [
    "function2()\n"
   ]
  },
  {
   "cell_type": "code",
   "execution_count": 23,
   "metadata": {},
   "outputs": [],
   "source": [
    "def function3():\n",
    "    a=8"
   ]
  },
  {
   "cell_type": "code",
   "execution_count": 28,
   "metadata": {},
   "outputs": [
    {
     "data": {
      "text/plain": [
       "1.6666666666666667"
      ]
     },
     "execution_count": 28,
     "metadata": {},
     "output_type": "execute_result"
    }
   ],
   "source": [
    "def addition(a,b,c):\n",
    "    return a*b/c\n",
    "\n",
    "d=addition(2,5,6)\n",
    "d"
   ]
  },
  {
   "cell_type": "code",
   "execution_count": 36,
   "metadata": {},
   "outputs": [],
   "source": [
    "def addition1(a,b):\n",
    "    c=a+b\n",
    "    return c"
   ]
  },
  {
   "cell_type": "code",
   "execution_count": 40,
   "metadata": {},
   "outputs": [
    {
     "data": {
      "text/plain": [
       "150"
      ]
     },
     "execution_count": 40,
     "metadata": {},
     "output_type": "execute_result"
    }
   ],
   "source": [
    "result=addition1(100,200)\n",
    "result // 2"
   ]
  },
  {
   "cell_type": "code",
   "execution_count": 41,
   "metadata": {},
   "outputs": [
    {
     "data": {
      "text/plain": [
       "302"
      ]
     },
     "execution_count": 41,
     "metadata": {},
     "output_type": "execute_result"
    }
   ],
   "source": [
    "result+2"
   ]
  },
  {
   "cell_type": "code",
   "execution_count": 45,
   "metadata": {},
   "outputs": [
    {
     "name": "stdout",
     "output_type": "stream",
     "text": [
      "1\n"
     ]
    }
   ],
   "source": [
    "def addition1(a,b):\n",
    "    c=a+b\n",
    "    return c"
   ]
  },
  {
   "cell_type": "code",
   "execution_count": 44,
   "metadata": {},
   "outputs": [
    {
     "data": {
      "text/plain": [
       "150"
      ]
     },
     "execution_count": 44,
     "metadata": {},
     "output_type": "execute_result"
    }
   ],
   "source": [
    "result=addition1(100,200)\n",
    "result // 2"
   ]
  },
  {
   "cell_type": "code",
   "execution_count": 60,
   "metadata": {},
   "outputs": [],
   "source": [
    "\n"
   ]
  },
  {
   "cell_type": "code",
   "execution_count": 53,
   "metadata": {},
   "outputs": [],
   "source": [
    "def result(name, m1,m2,m3):\n",
    "    total=m1+m2+m3\n",
    "    print(f\"name of student is: {name} \")\n",
    "    print (f\"total marks are: {total} \")"
   ]
  },
  {
   "cell_type": "code",
   "execution_count": 54,
   "metadata": {},
   "outputs": [
    {
     "name": "stdout",
     "output_type": "stream",
     "text": [
      "name of student is: ali \n",
      "total marks are: 257 \n"
     ]
    }
   ],
   "source": [
    "result(\"ali\", 78,89,90)"
   ]
  },
  {
   "cell_type": "code",
   "execution_count": 3,
   "metadata": {},
   "outputs": [],
   "source": [
    "def results(name,english,urdu,maths):\n",
    "    total=english+urdu+maths\n",
    "    per=total/300*100\n",
    "    grade=\"\"\n",
    "    if per >=90:\n",
    "        grade=\"A+\"\n",
    "    elif per >=80:\n",
    "        grade=\"A\"\n",
    "    elif per >=70:\n",
    "        grade=\"B\"\n",
    "    elif per >=60:\n",
    "        grade=\"C\"\n",
    "    elif per >=50:\n",
    "        grade=\"D\"\n",
    "    else: \n",
    "        grade=\"fail\"\n",
    "    return name,total,per,grade\n",
    "    \n",
    "\n",
    "\n"
   ]
  },
  {
   "cell_type": "code",
   "execution_count": 5,
   "metadata": {},
   "outputs": [
    {
     "name": "stdout",
     "output_type": "stream",
     "text": [
      "Enter you name here:  lll\n",
      "english number: 25\n",
      "urdu number: 60\n",
      "maths number: 70\n",
      "name of student is lll \n",
      " your obtained marks are 155 \n",
      " your percentage is 51.66666666666667 \n",
      " your gradeD\n"
     ]
    }
   ],
   "source": [
    "name=input(\"Enter you name here:  \")\n",
    "english=int(input(\"english number: \"))\n",
    "urdu=int(input(\"urdu number: \"))\n",
    "maths=int(input(\"maths number: \"))\n",
    "abc=results(name,english,urdu,maths)\n",
    "print(f'name of student is {abc[0]} \\n your obtained marks are {abc[1]} \\n your percentage is {abc[2]} \\n your grade{abc[3]}')"
   ]
  },
  {
   "cell_type": "code",
   "execution_count": null,
   "metadata": {},
   "outputs": [],
   "source": []
  }
 ],
 "metadata": {
  "kernelspec": {
   "display_name": "Python 3",
   "language": "python",
   "name": "python3"
  }
 },
 "nbformat": 4,
 "nbformat_minor": 2
}
