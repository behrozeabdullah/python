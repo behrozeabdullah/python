{
 "cells": [
  {
   "cell_type": "code",
   "execution_count": null,
   "metadata": {},
   "outputs": [],
   "source": [
    "dict1={\"a\":10, \"b\":20, \"c\":30}\n",
    "for key1, value1 in dict1.items():\n",
    "    print(key1,value1)"
   ]
  },
  {
   "cell_type": "code",
   "execution_count": null,
   "metadata": {},
   "outputs": [],
   "source": [
    "for key3 in dict1.keys():\n",
    "    print(key3)"
   ]
  },
  {
   "cell_type": "code",
   "execution_count": null,
   "metadata": {},
   "outputs": [],
   "source": [
    "for value3 in dict1.values():\n",
    "    print(value3)"
   ]
  },
  {
   "cell_type": "code",
   "execution_count": null,
   "metadata": {},
   "outputs": [],
   "source": [
    "store={\"firstname\":\"jawwad\",\"Lastname\":\"jawed\", \"age\":22, \"City\":\"Karachi\" }\n",
    "print(\"first name is \"+store[\"firstname\"].title()+\".\")\n",
    "print(\"last name is \"+store[\"Lastname\"].title()+\".\")\n",
    "print(\"City name is \"+store[\"City\"].title()+\".\")\n",
    "print(\"Age is \"+str(store[\"age\"])+\".\")"
   ]
  },
  {
   "cell_type": "code",
   "execution_count": null,
   "metadata": {},
   "outputs": [],
   "source": [
    "store={\"firstname\":\"jawwad\",\"Lastname\":\"jawed\", \"age\":22, \"City\":\"Karachi\" }\n",
    "print(\"Age is \"+str(store[\"age\"])+\".\")"
   ]
  },
  {
   "cell_type": "code",
   "execution_count": null,
   "metadata": {},
   "outputs": [],
   "source": [
    "store={\"firstname\":\"jawwad\",\"Lastname\":\"jawed\", \"age\":22, \"City\":\"Karachi\" }\n",
    "print(\"first name is {}\".format(store[\"firstname\"]).title()+\".\")\n",
    "print(\"last name is {}\".format(store[\"Lastname\"]).title()+\".\")\n",
    "print(\"City name is {} \".format(store[\"City\"]).title()+\".\")\n",
    "print(\"Age is {}\".format(store[\"age\"])+\".\")"
   ]
  },
  {
   "cell_type": "code",
   "execution_count": null,
   "metadata": {},
   "outputs": [],
   "source": [
    "user={\"teacher\":\"sir nasir\", \"teacher assistant\":\"shahzad ahsan\", \"student\":\"Anas\"}\n",
    "for key, value in user.items():\n",
    "    print(\"\\nkey: \"+ key)\n",
    "    print(\"vlaue:\" +value)"
   ]
  },
  {
   "cell_type": "code",
   "execution_count": null,
   "metadata": {},
   "outputs": [],
   "source": [
    "names={'shahzad':'ahsan', \"sara\":\"Khan\", \"komal\":\"aftab\", \"hasan\":\"dhedi\"}\n",
    "for firstname, lastname in names.items():\n",
    "    print(\"my first name is\"+firstname.title()+\"and my last name is\" + lastname.title()+\".\" )\n",
    "    "
   ]
  },
  {
   "cell_type": "code",
   "execution_count": null,
   "metadata": {},
   "outputs": [],
   "source": [
    "words={\"mobile\":\"apple\", \"batsman\":\"AB\", \"Bike\":\"heavy\", \"CAR\":\"Audi\"}\n",
    "for word in words.keys():\n",
    "    print(\"dict: \"+word)"
   ]
  },
  {
   "cell_type": "code",
   "execution_count": null,
   "metadata": {},
   "outputs": [],
   "source": [
    "words={\"mobile\":\"apple\", \"batsman\":\"AB\", \"Bike\":\"heavy\", \"CAR\":\"Audi\"}\n",
    "for word in words.values():\n",
    "    print(\"dict:\"+word)\n",
    "    "
   ]
  },
  {
   "cell_type": "code",
   "execution_count": null,
   "metadata": {},
   "outputs": [],
   "source": [
    "alien1={\"name\":\"Anas\", \"color\":\"green\", \"height\":\"5.7\", \"weight\":\"67\"}\n",
    "if lastname not in alien1.values():\n",
    "    print(\"please write your last name also\")"
   ]
  },
  {
   "cell_type": "code",
   "execution_count": null,
   "metadata": {},
   "outputs": [],
   "source": [
    "alein=[\"b\",\"c\",\"e\",\"f\",\"d\",\"g\",\"i\",\"y\",\"x\",\"z\"]\n",
    "alein.sort()\n",
    "print(alein)"
   ]
  },
  {
   "cell_type": "code",
   "execution_count": null,
   "metadata": {},
   "outputs": [],
   "source": [
    "alein=[\"b\",\"c\",\"e\",\"f\",\"d\",\"g\",\"i\",\"y\",\"x\",\"z\"]\n",
    "alein.sort(reverse=True)\n",
    "print(alein)"
   ]
  },
  {
   "cell_type": "code",
   "execution_count": null,
   "metadata": {},
   "outputs": [],
   "source": [
    "print(alein)"
   ]
  },
  {
   "cell_type": "code",
   "execution_count": null,
   "metadata": {},
   "outputs": [],
   "source": [
    "alein=[\"b\",\"c\",\"e\",\"f\",\"d\",\"g\",\"i\",\"y\",\"x\",\"z\"]\n",
    "sorted(alein)"
   ]
  },
  {
   "cell_type": "code",
   "execution_count": null,
   "metadata": {},
   "outputs": [],
   "source": [
    "print(alein)"
   ]
  },
  {
   "cell_type": "code",
   "execution_count": null,
   "metadata": {},
   "outputs": [],
   "source": [
    "seqTuple = ('P', 'y', 't', 'h', 'o', 'n')\n",
    "print(list(reversed(seqTuple)))"
   ]
  },
  {
   "cell_type": "code",
   "execution_count": null,
   "metadata": {},
   "outputs": [],
   "source": [
    "listing=[1,2,3,4,5,6,7,8]"
   ]
  },
  {
   "cell_type": "code",
   "execution_count": null,
   "metadata": {},
   "outputs": [],
   "source": [
    "abc=list(reversed(listing))"
   ]
  },
  {
   "cell_type": "code",
   "execution_count": null,
   "metadata": {},
   "outputs": [],
   "source": [
    "abc"
   ]
  },
  {
   "cell_type": "code",
   "execution_count": 4,
   "metadata": {},
   "outputs": [
    {
     "name": "stdout",
     "output_type": "stream",
     "text": [
      "\n",
      "key c\n",
      "value f\n",
      "\n",
      "key d\n",
      "value G\n",
      "\n",
      "key s\n",
      "value e\n",
      "\n",
      "key j\n",
      "value k\n",
      "\n",
      "key y\n",
      "value u\n",
      "\n",
      "key i\n",
      "value l\n"
     ]
    }
   ],
   "source": [
    "alein3={\"c\":\"f\",\"d\":\"G\"}\n",
    "alein1={\"s\":\"e\",\"j\":\"k\"}\n",
    "alein2={\"y\":\"u\",\"i\":\"l\"}\n",
    "\n",
    "alein=[alein3,alein1,alein2]\n",
    "for aleins in alein:\n",
    "    for key,value in aleins.items():\n",
    "        print(\"\\nkey \"+ key)\n",
    "        print(\"value \"+ value)"
   ]
  },
  {
   "cell_type": "code",
   "execution_count": 9,
   "metadata": {},
   "outputs": [
    {
     "name": "stdout",
     "output_type": "stream",
     "text": [
      "2\n",
      "4\n",
      "6\n",
      "8\n",
      "10\n",
      "12\n",
      "14\n",
      "16\n",
      "18\n",
      "20\n",
      "3\n",
      "6\n",
      "9\n",
      "12\n",
      "15\n",
      "18\n",
      "21\n",
      "24\n",
      "27\n",
      "30\n"
     ]
    }
   ],
   "source": [
    "numbers=[1,2,3,4,5,6,7,8,9,10]\n",
    "\n",
    "tables=[2,3]\n",
    "\n",
    "for table in tables:\n",
    "    for num in numbers:\n",
    "        print(f\"table*num)"
   ]
  },
  {
   "cell_type": "code",
   "execution_count": null,
   "metadata": {},
   "outputs": [],
   "source": []
  }
 ],
 "metadata": {
  "kernelspec": {
   "display_name": "Python 3",
   "language": "python",
   "name": "python3"
  },
  "language_info": {
   "codemirror_mode": {
    "name": "ipython",
    "version": 3
   },
   "file_extension": ".py",
   "mimetype": "text/x-python",
   "name": "python",
   "nbconvert_exporter": "python",
   "pygments_lexer": "ipython3",
   "version": "3.7.1"
  }
 },
 "nbformat": 4,
 "nbformat_minor": 2
}
