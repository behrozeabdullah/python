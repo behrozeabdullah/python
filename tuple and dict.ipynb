{
 "cells": [
  {
   "cell_type": "code",
   "execution_count": 1,
   "metadata": {},
   "outputs": [
    {
     "name": "stdout",
     "output_type": "stream",
     "text": [
      "zohaib\n"
     ]
    }
   ],
   "source": [
    "freinds=(\"hamza\", \"umer\", \"zohaib\", \"azhar\", \"fahad\")\n",
    "print(freinds[2])"
   ]
  },
  {
   "cell_type": "code",
   "execution_count": 2,
   "metadata": {},
   "outputs": [
    {
     "name": "stdout",
     "output_type": "stream",
     "text": [
      "i belong to LOS ANGELES\n"
     ]
    }
   ],
   "source": [
    "cities=(\"atlanta\", \"baltimore\", \"Chicago\", \"denver\", \"los angeles\")\n",
    "mycities=cities[4]\n",
    "print(\"i belong to \"+mycities.upper())"
   ]
  },
  {
   "cell_type": "code",
   "execution_count": 5,
   "metadata": {},
   "outputs": [
    {
     "name": "stdout",
     "output_type": "stream",
     "text": [
      "tup1[0]: pysics\n",
      "tup2[1:5]: (2, 3, 4, 5)\n"
     ]
    }
   ],
   "source": [
    "tup1=(\"pysics\", \"chemistry\", 1997, 2000)\n",
    "tup2=(1,2,3,4,5,6,7)\n",
    "print(\"tup1[0]:\",tup1[0])\n",
    "print(\"tup2[1:5]:\",tup2[1:5])\n"
   ]
  },
  {
   "cell_type": "code",
   "execution_count": 6,
   "metadata": {},
   "outputs": [
    {
     "name": "stdout",
     "output_type": "stream",
     "text": [
      "('pysics', 'chemistry', 1997, 2000, 'abc', 'xyz')\n"
     ]
    }
   ],
   "source": [
    "tip1=(12, 34.56)\n",
    "tup2=(\"abc\", \"xyz\")\n",
    "tup3=tup1+tup2\n",
    "print(tup3)"
   ]
  },
  {
   "cell_type": "code",
   "execution_count": 8,
   "metadata": {},
   "outputs": [
    {
     "name": "stdout",
     "output_type": "stream",
     "text": [
      "('physics', 'chemistry', 1997, 2000)\n",
      "after deleting tup\n"
     ]
    },
    {
     "ename": "NameError",
     "evalue": "name 'tup' is not defined",
     "output_type": "error",
     "traceback": [
      "\u001b[1;31m---------------------------------------------------------------------------\u001b[0m",
      "\u001b[1;31mNameError\u001b[0m                                 Traceback (most recent call last)",
      "\u001b[1;32m<ipython-input-8-ee7af0016f89>\u001b[0m in \u001b[0;36m<module>\u001b[1;34m\u001b[0m\n\u001b[0;32m      3\u001b[0m \u001b[1;32mdel\u001b[0m \u001b[0mtup\u001b[0m\u001b[1;33m\u001b[0m\u001b[1;33m\u001b[0m\u001b[0m\n\u001b[0;32m      4\u001b[0m \u001b[0mprint\u001b[0m \u001b[1;33m(\u001b[0m\u001b[1;34m\"after deleting tup\"\u001b[0m\u001b[1;33m)\u001b[0m\u001b[1;33m\u001b[0m\u001b[1;33m\u001b[0m\u001b[0m\n\u001b[1;32m----> 5\u001b[1;33m \u001b[0mprint\u001b[0m \u001b[1;33m(\u001b[0m\u001b[0mtup\u001b[0m\u001b[1;33m)\u001b[0m\u001b[1;33m\u001b[0m\u001b[1;33m\u001b[0m\u001b[0m\n\u001b[0m",
      "\u001b[1;31mNameError\u001b[0m: name 'tup' is not defined"
     ]
    }
   ],
   "source": [
    "tup=(\"physics\", \"chemistry\", 1997, 2000)\n",
    "print(tup)\n",
    "del tup\n",
    "print (\"after deleting tup\")\n",
    "print (tup)"
   ]
  },
  {
   "cell_type": "code",
   "execution_count": 9,
   "metadata": {},
   "outputs": [
    {
     "ename": "TypeError",
     "evalue": "'tuple' object does not support item assignment",
     "output_type": "error",
     "traceback": [
      "\u001b[1;31m---------------------------------------------------------------------------\u001b[0m",
      "\u001b[1;31mTypeError\u001b[0m                                 Traceback (most recent call last)",
      "\u001b[1;32m<ipython-input-9-3e36d2a2440c>\u001b[0m in \u001b[0;36m<module>\u001b[1;34m\u001b[0m\n\u001b[0;32m      1\u001b[0m \u001b[0mthistuple\u001b[0m\u001b[1;33m=\u001b[0m\u001b[1;33m(\u001b[0m\u001b[1;34m\"apple\"\u001b[0m\u001b[1;33m,\u001b[0m \u001b[1;34m\"banana\"\u001b[0m\u001b[1;33m,\u001b[0m \u001b[1;34m\"cherry\"\u001b[0m\u001b[1;33m)\u001b[0m\u001b[1;33m\u001b[0m\u001b[1;33m\u001b[0m\u001b[0m\n\u001b[1;32m----> 2\u001b[1;33m \u001b[0mthistuple\u001b[0m\u001b[1;33m[\u001b[0m\u001b[1;36m1\u001b[0m\u001b[1;33m]\u001b[0m\u001b[1;33m=\u001b[0m\u001b[1;34m\"blackcurrant\"\u001b[0m\u001b[1;33m\u001b[0m\u001b[1;33m\u001b[0m\u001b[0m\n\u001b[0m\u001b[0;32m      3\u001b[0m \u001b[0mprint\u001b[0m \u001b[1;33m(\u001b[0m\u001b[0mthistuple\u001b[0m\u001b[1;33m)\u001b[0m\u001b[1;33m\u001b[0m\u001b[1;33m\u001b[0m\u001b[0m\n",
      "\u001b[1;31mTypeError\u001b[0m: 'tuple' object does not support item assignment"
     ]
    }
   ],
   "source": [
    "thistuple=(\"apple\", \"banana\", \"cherry\")\n",
    "thistuple[1]=\"blackcurrant\"\n",
    "print (thistuple)"
   ]
  },
  {
   "cell_type": "code",
   "execution_count": 10,
   "metadata": {},
   "outputs": [
    {
     "name": "stdout",
     "output_type": "stream",
     "text": [
      "apple\n",
      "banana\n",
      "cherry\n"
     ]
    }
   ],
   "source": [
    "thistuple=(\"apple\", \"banana\", \"cherry\")\n",
    "for x in thistuple:\n",
    "    print(x)"
   ]
  },
  {
   "cell_type": "code",
   "execution_count": 14,
   "metadata": {},
   "outputs": [
    {
     "name": "stdout",
     "output_type": "stream",
     "text": [
      "yes\n"
     ]
    }
   ],
   "source": [
    "thistuple=(\"apple\", \"banana\", \"cherry\")\n",
    "if \"banana\" in thistuple:\n",
    "    print(\"yes\")"
   ]
  },
  {
   "cell_type": "code",
   "execution_count": 15,
   "metadata": {},
   "outputs": [],
   "source": [
    "thistuple=(\"apple\", \"banana\", \"cherry\")\n",
    "if \"banan\" in thistuple:\n",
    "    print(\"yes\")"
   ]
  },
  {
   "cell_type": "code",
   "execution_count": 16,
   "metadata": {},
   "outputs": [
    {
     "name": "stdout",
     "output_type": "stream",
     "text": [
      "3\n"
     ]
    }
   ],
   "source": [
    "thistuple=(\"apple\", \"bananna\", \"cherry\")\n",
    "print(len(thistuple))"
   ]
  },
  {
   "cell_type": "markdown",
   "metadata": {},
   "source": [
    "# dictioneries"
   ]
  },
  {
   "cell_type": "code",
   "execution_count": 19,
   "metadata": {},
   "outputs": [
    {
     "name": "stdout",
     "output_type": "stream",
     "text": [
      "green\n",
      "5\n"
     ]
    }
   ],
   "source": [
    "alien_0={\"color\":\"green\", \"Point\":5}\n",
    "print(alien_0[\"color\"])\n",
    "print(alien_0[\"Point\"])"
   ]
  },
  {
   "cell_type": "code",
   "execution_count": 21,
   "metadata": {},
   "outputs": [
    {
     "name": "stdout",
     "output_type": "stream",
     "text": [
      "you just earned 5 points!\n"
     ]
    }
   ],
   "source": [
    "alien_0={\"color\":\"green\", \"Point\":5}\n",
    "new_points=alien_0[\"Point\"]\n",
    "print(\"you just earned \"+str(new_points)+\" points!\")"
   ]
  },
  {
   "cell_type": "code",
   "execution_count": 22,
   "metadata": {},
   "outputs": [
    {
     "name": "stdout",
     "output_type": "stream",
     "text": [
      "{'color': 'green', 'Point': 5}\n",
      "{'color': 'green', 'Point': 5, 'x_position': 0, 'y_position': 25}\n"
     ]
    }
   ],
   "source": [
    "alien_0=={\"color\":\"green\", \"point\":5}\n",
    "print(alien_0)\n",
    "alien_0[\"x_position\"]=0\n",
    "alien_0[\"y_position\"]=25\n",
    "print(alien_0)"
   ]
  },
  {
   "cell_type": "code",
   "execution_count": 26,
   "metadata": {},
   "outputs": [
    {
     "name": "stdout",
     "output_type": "stream",
     "text": [
      "{'karahi': ['favorite', 'peshawari', 'blaoch'], 'sheep': 'boti kaba', 'khawsa': 'yummy', 'BBQ': 'malai boti', 'SHAKE': 'CHOCALTE', 'Icecream': {'color': 'green', 'point': 5, 'x_position': [0, 'y_position', 25]}}\n"
     ]
    },
    {
     "data": {
      "text/plain": [
       "25"
      ]
     },
     "execution_count": 26,
     "metadata": {},
     "output_type": "execute_result"
    }
   ],
   "source": [
    "foods={}\n",
    "foods[\"karahi\"]=[\"favorite\", \"peshawari\", \"blaoch\"]\n",
    "foods[\"sheep\"]=\"boti kaba\"\n",
    "foods[\"khawsa\"]=\"yummy\"\n",
    "foods[\"BBQ\"]=\"malai boti\"\n",
    "foods[\"SHAKE\"]=\"CHOCALTE\"\n",
    "foods[\"Icecream\"]= {\"color\":\"green\", \"point\":5, \"x_position\": [0, \"y_position\", 25] }\n",
    "print (foods)\n",
    "foods[\"karahi\"][1]\n",
    "foods[\"Icecream\"][\"x_position\"][2]\n"
   ]
  },
  {
   "cell_type": "code",
   "execution_count": 34,
   "metadata": {},
   "outputs": [
    {
     "name": "stdout",
     "output_type": "stream",
     "text": [
      "shane robert watson is aaustralian international cricketer.\n",
      "\n",
      "we all know that imam ul haq is a PARCHI\n"
     ]
    }
   ],
   "source": [
    "players={\"watson\":\"australian international cricketer\"}\n",
    "print(\"shane robert watson is a\" + players[\"watson\"]+\".\")\n",
    "\n",
    "players={\"imam ul haq\": \"parchi\"}\n",
    "\n",
    "print(\"\\nwe all know that imam ul haq is a \" + players[\"imam ul haq\"].upper())"
   ]
  },
  {
   "cell_type": "code",
   "execution_count": 36,
   "metadata": {},
   "outputs": [
    {
     "name": "stdout",
     "output_type": "stream",
     "text": [
      "karachi is: kings\n",
      "psl4 Zalmi: won2\n"
     ]
    }
   ],
   "source": [
    "psl={\"karachi\":\"kings\", \"multan\":\"sultan\", \"zalmi\":\"won\"}\n",
    "print(\"karachi is: \" +str(psl['karachi']))\n",
    "\n",
    "if psl[\"zalmi\"]==\"loser\":\n",
    "    X_increment=1\n",
    "elif psl[\"zalmi\"]==\"won\":\n",
    "    X_increment=2\n",
    "else:\n",
    "    X_increment=3\n",
    "    \n",
    "psl[\"zalmi\"]=psl[\"zalmi\"]+str(X_increment)\n",
    "print(\"psl4 Zalmi: \" +str(psl[\"zalmi\"]))"
   ]
  },
  {
   "cell_type": "code",
   "execution_count": null,
   "metadata": {},
   "outputs": [],
   "source": []
  }
 ],
 "metadata": {
  "kernelspec": {
   "display_name": "Python 3",
   "language": "python",
   "name": "python3"
  },
  "language_info": {
   "codemirror_mode": {
    "name": "ipython",
    "version": 3
   },
   "file_extension": ".py",
   "mimetype": "text/x-python",
   "name": "python",
   "nbconvert_exporter": "python",
   "pygments_lexer": "ipython3",
   "version": "3.7.1"
  }
 },
 "nbformat": 4,
 "nbformat_minor": 2
}
