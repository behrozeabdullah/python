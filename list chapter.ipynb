{
 "cells": [
  {
   "cell_type": "code",
   "execution_count": null,
   "metadata": {},
   "outputs": [],
   "source": [
    "bicycles = [\"trek, cannadile, redline, specialized\"]\n",
    "print(bicycles)"
   ]
  },
  {
   "cell_type": "code",
   "execution_count": null,
   "metadata": {},
   "outputs": [],
   "source": [
    "bicycles = [\"trek\", \"cannadile\", \"redline\", \"specialized\"]\n",
    "print (bicycles[0])\n",
    "print (bicycles[3])"
   ]
  },
  {
   "cell_type": "code",
   "execution_count": null,
   "metadata": {},
   "outputs": [],
   "source": [
    "bicycles = [\"trek\", \"cannadile\", \"redline\", \"specialized\"]\n",
    "print (bicycles[-1])"
   ]
  },
  {
   "cell_type": "code",
   "execution_count": null,
   "metadata": {},
   "outputs": [],
   "source": [
    "bicycles = [\"trek\", \"cannadile\", \"redline\", \"specialized\"]\n",
    "print (bicycles[-0])"
   ]
  },
  {
   "cell_type": "code",
   "execution_count": null,
   "metadata": {},
   "outputs": [],
   "source": [
    "bicycles = [\"trek\", \"cannadile\", \"redline\", \"specialized\"]\n",
    "print (bicycles[-4])"
   ]
  },
  {
   "cell_type": "code",
   "execution_count": null,
   "metadata": {},
   "outputs": [],
   "source": [
    "bicycles = [\"trek\", \"cannadile\", \"redline\", \"specialized\"]\n",
    "print (bicycles[-2])"
   ]
  },
  {
   "cell_type": "code",
   "execution_count": null,
   "metadata": {},
   "outputs": [],
   "source": [
    "bicycles = [\"trek\", \"cannadile\", \"redline\", \"special\"]\n",
    "message = \"my favourite car is \" +bicycles[3].title() +\".\"\n",
    "print (message)"
   ]
  },
  {
   "cell_type": "code",
   "execution_count": null,
   "metadata": {},
   "outputs": [],
   "source": [
    "bicycles = [\"trek\", \"cannadile\", \"redline\", \"special\"]\n",
    "print (bicycles)\n",
    "\n",
    "bicycles = [\"trek\", \"cannadile\", \"redline\", \"special\"]\n",
    "bicycles.append(\"llll\")\n",
    "print (bicycles)\n"
   ]
  },
  {
   "cell_type": "code",
   "execution_count": null,
   "metadata": {},
   "outputs": [],
   "source": [
    "bicycles[2]=\"hahah\"\n",
    "print (bicycles)"
   ]
  },
  {
   "cell_type": "code",
   "execution_count": null,
   "metadata": {},
   "outputs": [],
   "source": [
    "bicycles = [\"trek\", \"cannadile\", \"redline\", \"special\"]\n",
    "bicycles.append(\"llll\")\n",
    "print (bicycles)\n"
   ]
  },
  {
   "cell_type": "code",
   "execution_count": null,
   "metadata": {},
   "outputs": [],
   "source": [
    "motorcycle=[]\n",
    "\n",
    "motorcycle.append('honda')\n",
    "motorcycle.append('yamaha')\n",
    "motorcycle.append('suzuki')\n",
    "motorcycle.append('unique')\n",
    "motorcycle.append('super power')\n",
    "motorcycle.append('super star')\n",
    "motorcycle.append('high speed')\n",
    "\n",
    "print (motorcycle)\n"
   ]
  },
  {
   "cell_type": "code",
   "execution_count": null,
   "metadata": {},
   "outputs": [],
   "source": [
    "motorcycle.insert(2, \"car\")\n",
    "print (motorcycle)"
   ]
  },
  {
   "cell_type": "code",
   "execution_count": null,
   "metadata": {},
   "outputs": [],
   "source": [
    "motorcycle.insert(199, \"car\")\n",
    "print (motorcycle)"
   ]
  },
  {
   "cell_type": "code",
   "execution_count": null,
   "metadata": {},
   "outputs": [],
   "source": [
    "name=['laiba', 'umer', \"rabia\", \"umer\", \"hamza\", \"fatima\", \"ahmed\"]\n",
    "print (name.index ('rabia'))\n",
    "name.remove('umer')\n",
    "name\n",
    "name.remove('umer')\n",
    "name"
   ]
  },
  {
   "cell_type": "code",
   "execution_count": null,
   "metadata": {},
   "outputs": [],
   "source": [
    "name=['laiba', 'umer', \"rabia\", \"umer\", \"hamza\", \"fatima\", \"ahmed\"]\n",
    "print (name.index ('rabia'))\n",
    "del name[2]\n",
    "name"
   ]
  },
  {
   "cell_type": "code",
   "execution_count": null,
   "metadata": {},
   "outputs": [],
   "source": [
    "print (\" ttt \")"
   ]
  },
  {
   "cell_type": "code",
   "execution_count": null,
   "metadata": {},
   "outputs": [],
   "source": [
    "task=[\"task1\",\"task2\",\"task3\",\"task4\",\"task5\"]\n",
    "task_complete=[]\n",
    "complete1=input(\"are you complete your task if yes so press y else press n: [Y/N] \").upper()\n",
    "\n",
    "if complete1==\"Y\":\n",
    "    task_complete=task.pop()\n",
    "    print(task_complete)\n",
    "else: \n",
    "    print (\"still your task pending\")\n",
    "    "
   ]
  },
  {
   "cell_type": "code",
   "execution_count": null,
   "metadata": {},
   "outputs": [],
   "source": [
    "task=[\"task1\",\"task2\",\"task3\",\"task4\",\"task5\"]\n",
    "task_complete=[]\n",
    "complete1=input(\"are you complete your task5 if yes so press y else press n: [Y/N] \").upper()\n",
    "complete1=input(\"are you complete your task4 if yes so press y else press n: [Y/N] \").upper()\n",
    "complete1=input(\"are you complete your task3 if yes so press y else press n: [Y/N] \").upper()\n",
    "complete1=input(\"are you complete your task2 if yes so press y else press n: [Y/N] \").upper()\n",
    "complete1=input(\"are you complete your task1 if yes so press y else press n: [Y/N] \").upper()\n",
    "\n",
    "if complete1==\"Y\":\n",
    "    task_complete=task.pop()\n",
    "    print(task_complete)\n",
    "else: \n",
    "    print (\"still your task pending\")\n",
    "\n",
    "if complete1==\"Y\":\n",
    "    task_complete=task.pop()\n",
    "    print(task_complete)\n",
    "else: \n",
    "    print (\"still your task pending\")\n",
    "    \n",
    "if complete1==\"Y\":\n",
    "    task_complete=task.pop()\n",
    "    print(task_complete)\n",
    "else: \n",
    "    print (\"still your task pending\")\n",
    "    \n",
    "if complete1==\"Y\":\n",
    "    task_complete=task.pop()\n",
    "    print(task_complete)\n",
    "else: \n",
    "    print (\"still your task pending\")\n",
    "    \n",
    "if complete1==\"Y\":\n",
    "    task_complete=task.pop()\n",
    "    print(task_complete)\n",
    "else: \n",
    "    print (\"still your task pending\")"
   ]
  },
  {
   "cell_type": "code",
   "execution_count": null,
   "metadata": {},
   "outputs": [],
   "source": [
    "task=[\"task1\",\"task2\",\"task3\",\"task4\",\"task5\"]\n",
    "task_complete=[]\n",
    "complete1=input(\"are you complete your task5 if yes so press y else press n: [Y/N] \").upper()\n",
    "complete1=input(\"are you complete your task4 if yes so press y else press n: [Y/N] \").upper()\n",
    "complete1=input(\"are you complete your task3 if yes so press y else press n: [Y/N] \").upper()\n",
    "complete1=input(\"are you complete your task2 if yes so press y else press n: [Y/N] \").upper()\n",
    "complete1=input(\"are you complete your task1 if yes so press y else press n: [Y/N] \").upper()\n",
    "\n",
    "if complete1==\"Y\":\n",
    "    task_complete=task.pop()\n",
    "    print(task_complete)\n",
    "else: \n",
    "    hold (\"still your task pending\")\n",
    "\n",
    "if complete1==\"Y\":\n",
    "    task_complete=task.pop()\n",
    "    print(task_complete)\n",
    "else: \n",
    "    print (\"still your task pending\")\n",
    "    \n",
    "if complete1==\"Y\":\n",
    "    task_complete=task.pop()\n",
    "    print(task_complete)\n",
    "else: \n",
    "    print (\"still your task pending\")\n",
    "    \n",
    "if complete1==\"Y\":\n",
    "    task_complete=task.pop()\n",
    "    print(task_complete)\n",
    "else: \n",
    "    print (\"still your task pending\")\n",
    "    \n",
    "if complete1==\"Y\":\n",
    "    task_complete=task.pop()\n",
    "    print(task_complete)\n",
    "else: \n",
    "    print (\"still your task pending\")"
   ]
  },
  {
   "cell_type": "code",
   "execution_count": 2,
   "metadata": {},
   "outputs": [
    {
     "name": "stdout",
     "output_type": "stream",
     "text": [
      "enter your task:call\n",
      "['luch', 'kaka']\n",
      "['call']\n"
     ]
    }
   ],
   "source": [
    "todolist=[\"call\", \"luch\", \"kaka\"]\n",
    "\n",
    "complete_task=[]\n",
    "\n",
    "task=input('enter your task:')\n",
    "\n",
    "if status in todolist:\n",
    "    \n",
    "    index=todolist.index(task)\n",
    "    \n",
    "    complete_task.append(todolist.pop(index))\n",
    "    \n",
    "    print (todolist)\n",
    "    print(complete_task)\n",
    "else:\n",
    "    print(\"this task is not in list\")"
   ]
  },
  {
   "cell_type": "code",
   "execution_count": null,
   "metadata": {},
   "outputs": [],
   "source": []
  },
  {
   "cell_type": "code",
   "execution_count": null,
   "metadata": {},
   "outputs": [],
   "source": []
  }
 ],
 "metadata": {
  "kernelspec": {
   "display_name": "Python 3",
   "language": "python",
   "name": "python3"
  },
  "language_info": {
   "codemirror_mode": {
    "name": "ipython",
    "version": 3
   },
   "file_extension": ".py",
   "mimetype": "text/x-python",
   "name": "python",
   "nbconvert_exporter": "python",
   "pygments_lexer": "ipython3",
   "version": "3.7.1"
  }
 },
 "nbformat": 4,
 "nbformat_minor": 2
}
