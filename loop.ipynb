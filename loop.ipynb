{
 "cells": [
  {
   "cell_type": "code",
   "execution_count": 4,
   "metadata": {},
   "outputs": [
    {
     "name": "stdout",
     "output_type": "stream",
     "text": [
      "0 Pakistan\n",
      "2 Pakistan\n",
      "4 Pakistan\n",
      "6 Pakistan\n",
      "8 Pakistan\n"
     ]
    }
   ],
   "source": [
    "for num in range(0,10,2):\n",
    "    print(num, \"Pakistan\")"
   ]
  },
  {
   "cell_type": "code",
   "execution_count": 12,
   "metadata": {},
   "outputs": [
    {
     "data": {
      "text/plain": [
       "[11, 22, 33, 44, 55, 66, True, '77']"
      ]
     },
     "execution_count": 12,
     "metadata": {},
     "output_type": "execute_result"
    }
   ],
   "source": [
    "list1=[11,22,33,44,55,66,True,\"77\"]\n",
    "list1"
   ]
  },
  {
   "cell_type": "code",
   "execution_count": 7,
   "metadata": {},
   "outputs": [
    {
     "data": {
      "text/plain": [
       "[44, 55]"
      ]
     },
     "execution_count": 7,
     "metadata": {},
     "output_type": "execute_result"
    }
   ],
   "source": [
    "list1[3:5]"
   ]
  },
  {
   "cell_type": "code",
   "execution_count": 8,
   "metadata": {},
   "outputs": [
    {
     "data": {
      "text/plain": [
       "77"
      ]
     },
     "execution_count": 8,
     "metadata": {},
     "output_type": "execute_result"
    }
   ],
   "source": [
    "list1[6]"
   ]
  },
  {
   "cell_type": "code",
   "execution_count": 28,
   "metadata": {},
   "outputs": [
    {
     "name": "stdout",
     "output_type": "stream",
     "text": [
      "11 is odd\n",
      "22 is even\n",
      "33 is odd\n",
      "44 is even\n",
      "55 is odd\n",
      "66 is even\n"
     ]
    }
   ],
   "source": [
    "list1=[11,22,33,44,55,66]\n",
    "for num in list1:\n",
    "    x= num%2\n",
    "    if x==0:\n",
    "        print(num,'is even')\n",
    "    else:\n",
    "        print(num, \"is odd\")"
   ]
  },
  {
   "cell_type": "code",
   "execution_count": 38,
   "metadata": {},
   "outputs": [
    {
     "name": "stdout",
     "output_type": "stream",
     "text": [
      "even\n",
      "22 44 66 88 \n",
      "odd\n",
      "11 33 55 77 99 "
     ]
    }
   ],
   "source": [
    "even=[]\n",
    "odd=[]\n",
    "list1=[11,22,33,44,55,66,77,88,99]\n",
    "for num in list1:\n",
    "    if num%2==0:\n",
    "        even.append(num)\n",
    "    else:\n",
    "        odd.append(num)\n",
    "print(\"even\")\n",
    "for ev in even:\n",
    "    print(ev,end=\" \")\n",
    "print(\"\\nodd\")\n",
    "for od in odd:\n",
    "    print (od,end=\" \")"
   ]
  },
  {
   "cell_type": "code",
   "execution_count": 36,
   "metadata": {},
   "outputs": [
    {
     "name": "stdout",
     "output_type": "stream",
     "text": [
      "these are odd number1,3,5,7,9,and2,4,6,8,10,are even numbers\n"
     ]
    }
   ],
   "source": [
    "oddnumberlist=[]\n",
    "evennumberlist=[]\n",
    "message = \"\"\n",
    "list1=[1,2,3,4,5,6,7,8,9,10]\n",
    "for num in list1:\n",
    "    if num%2!=0:\n",
    "        oddnumberlist.append(num)\n",
    "    else:\n",
    "        evennumberlist.append(num)\n",
    "message+=\"these are odd number\"\n",
    "for odd in oddnumberlist:\n",
    "    message+=str(odd)+\",\"\n",
    "message+=\"and\"\n",
    "for even in evennumberlist:\n",
    "    message+=str(even)+\",\"\n",
    "message+=\"are even numbers\"\n",
    "print(message)"
   ]
  },
  {
   "cell_type": "code",
   "execution_count": 52,
   "metadata": {},
   "outputs": [],
   "source": [
    "closefreindlist=[]\n",
    "otherfreindsandrelatives=[]\n",
    "relatives=[\"a\", \"b\", \"c\", \"d\", \"e\", \"f\", \"g\"]\n",
    "freinds=[\"a\",\"C\", \"K\", \"r\", \"q\", \"s\"]\n",
    "message=\"\"\n",
    "for close in relatives:\n",
    "    if relatives==freinds:\n",
    "        closefreindlist.append(close)\n",
    "    else:\n",
    "        otherfreindsandrelatives.append\n",
    "message += \"you are my close freind\"\n",
    "for relat in closefreindlist:\n",
    "    message+=str(relat)+\",\"\n",
    "for other in otherfreindsandrelatives:\n",
    "    message+=str(other)+\",\"\n",
    "    "
   ]
  },
  {
   "cell_type": "code",
   "execution_count": 59,
   "metadata": {},
   "outputs": [
    {
     "name": "stdout",
     "output_type": "stream",
     "text": [
      "['a', 'c']\n"
     ]
    }
   ],
   "source": [
    "relatives=[\"a\", \"b\", \"c\", \"d\", \"e\", \"f\", \"g\"]\n",
    "freinds=[\"a\",\"c\", \"K\", \"r\", \"q\", \"s\"]\n",
    "close_freinds=[]\n",
    "for find in freinds:\n",
    "    for dost in relatives:\n",
    "        if find==dost:\n",
    "            close_freinds.append(find)\n",
    "print(close_freinds)"
   ]
  },
  {
   "cell_type": "code",
   "execution_count": 60,
   "metadata": {},
   "outputs": [
    {
     "name": "stdout",
     "output_type": "stream",
     "text": [
      "ALI\n",
      "SARA\n",
      "AHMED\n",
      "FATIMA\n"
     ]
    }
   ],
   "source": [
    "names=[\"anas\", \"tooba\", \"ali\", \"sara\", \"ahmed\", \"fatima\" ]\n",
    "for name in names[2:]:\n",
    "    print(name.upper())"
   ]
  },
  {
   "cell_type": "code",
   "execution_count": 64,
   "metadata": {},
   "outputs": [
    {
     "name": "stdout",
     "output_type": "stream",
     "text": [
      "karahi\n",
      "malai boti\n",
      "tikka\n",
      "burger\n"
     ]
    }
   ],
   "source": [
    "items=[\"karahi\", \"malai boti\", \"tikka\", \"burger\", \"chips\"]\n",
    "for item in items[:4]:\n",
    "    print(item)"
   ]
  },
  {
   "cell_type": "code",
   "execution_count": null,
   "metadata": {},
   "outputs": [],
   "source": []
  },
  {
   "cell_type": "code",
   "execution_count": null,
   "metadata": {},
   "outputs": [],
   "source": []
  }
 ],
 "metadata": {
  "kernelspec": {
   "display_name": "Python 3",
   "language": "python",
   "name": "python3"
  },
  "language_info": {
   "codemirror_mode": {
    "name": "ipython",
    "version": 3
   },
   "file_extension": ".py",
   "mimetype": "text/x-python",
   "name": "python",
   "nbconvert_exporter": "python",
   "pygments_lexer": "ipython3",
   "version": "3.7.1"
  }
 },
 "nbformat": 4,
 "nbformat_minor": 2
}
