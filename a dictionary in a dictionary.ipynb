{
 "cells": [
  {
   "cell_type": "code",
   "execution_count": 2,
   "metadata": {},
   "outputs": [
    {
     "name": "stdout",
     "output_type": "stream",
     "text": [
      "\n",
      "username: sheikh\n",
      "\tfull name: Shahzad Ahsan\n",
      "\tlocation: Bhadurabad\n",
      "\n",
      "username: sir\n",
      "\tfull name: Nasir Hussain\n",
      "\tlocation: Gulshan\n"
     ]
    }
   ],
   "source": [
    "users={\"sheikh\":{\"first\":\"shahzad\",\"last\":\"ahsan\",\"location\":\"bhadurabad\"},\"sir\":{\"first\":\"nasir\",\"last\":\"hussain\",\"location\":\"gulshan\"}}\n",
    "for username, user_info in users.items():\n",
    "    print(\"\\nusername: \" + username)\n",
    "    full_name=user_info[\"first\"]+\" \"+user_info[\"last\"]\n",
    "    location=user_info[\"location\"]\n",
    "    print(\"\\tfull name: \" + full_name.title())\n",
    "    print(\"\\tlocation: \" + location.title())"
   ]
  },
  {
   "cell_type": "markdown",
   "metadata": {},
   "source": [
    "# while loop"
   ]
  },
  {
   "cell_type": "code",
   "execution_count": 3,
   "metadata": {},
   "outputs": [
    {
     "name": "stdout",
     "output_type": "stream",
     "text": [
      "10 hello\n",
      "9 hello\n",
      "8 hello\n",
      "7 hello\n",
      "6 hello\n",
      "5 hello\n",
      "4 hello\n",
      "3 hello\n",
      "2 hello\n",
      "1 hello\n"
     ]
    }
   ],
   "source": [
    "a=10\n",
    "while a>0:\n",
    "    print(a,\"hello\")\n",
    "    a -=1"
   ]
  },
  {
   "cell_type": "code",
   "execution_count": 4,
   "metadata": {},
   "outputs": [
    {
     "name": "stdout",
     "output_type": "stream",
     "text": [
      "1 hello\n",
      "2 hello\n",
      "3 hello\n",
      "4 hello\n",
      "5 hello\n",
      "6 hello\n",
      "7 hello\n",
      "8 hello\n",
      "9 hello\n"
     ]
    }
   ],
   "source": [
    "a=1\n",
    "while a<10:\n",
    "    print(a,\"hello\")\n",
    "    a +=1"
   ]
  },
  {
   "cell_type": "code",
   "execution_count": 5,
   "metadata": {},
   "outputs": [
    {
     "name": "stdout",
     "output_type": "stream",
     "text": [
      "odd number\n",
      "1\n",
      "3\n",
      "5\n",
      "7\n",
      "9\n",
      "11\n",
      "13\n",
      "15\n",
      "17\n",
      "19\n"
     ]
    }
   ],
   "source": [
    "a=1\n",
    "print (\"odd number\")\n",
    "while a<=20:\n",
    "    print(a)\n",
    "    a+=2"
   ]
  },
  {
   "cell_type": "code",
   "execution_count": 6,
   "metadata": {},
   "outputs": [
    {
     "name": "stdout",
     "output_type": "stream",
     "text": [
      "even number\n",
      "0\n",
      "2\n",
      "4\n",
      "6\n",
      "8\n",
      "10\n",
      "12\n",
      "14\n",
      "16\n",
      "18\n",
      "20\n"
     ]
    }
   ],
   "source": [
    "a=0\n",
    "print (\"even number\")\n",
    "while a<=20:\n",
    "    print(a)\n",
    "    a+=2"
   ]
  },
  {
   "cell_type": "code",
   "execution_count": 7,
   "metadata": {},
   "outputs": [
    {
     "name": "stdout",
     "output_type": "stream",
     "text": [
      "1 odd\n",
      "2 even number\n",
      "3 odd\n",
      "4 even number\n",
      "5 odd\n",
      "6 even number\n",
      "7 odd\n",
      "8 even number\n",
      "9 odd\n",
      "10 even number\n",
      "11 odd\n",
      "12 even number\n",
      "13 odd\n",
      "14 even number\n",
      "15 odd\n",
      "16 even number\n",
      "17 odd\n",
      "18 even number\n",
      "19 odd\n",
      "20 even number\n"
     ]
    }
   ],
   "source": [
    "a=1\n",
    "while a<=20:\n",
    "    if a%2==0:\n",
    "        print(a, \"even number\")\n",
    "    else:\n",
    "        print (a,\"odd\")\n",
    "    a+=1"
   ]
  },
  {
   "cell_type": "code",
   "execution_count": 8,
   "metadata": {},
   "outputs": [
    {
     "name": "stdout",
     "output_type": "stream",
     "text": [
      "enter number: q\n",
      "you are out now\n"
     ]
    }
   ],
   "source": [
    "condition= True\n",
    "while condition:\n",
    "    num=input(\"enter number: \")\n",
    "    if num==\"q\":\n",
    "        print(\"you are out now\")\n",
    "        condition =False \n",
    "    else:\n",
    "        print (\"the square of the number is\", int(num)**2)\n",
    "        "
   ]
  },
  {
   "cell_type": "code",
   "execution_count": 9,
   "metadata": {},
   "outputs": [
    {
     "name": "stdout",
     "output_type": "stream",
     "text": [
      "enter number: q\n",
      "you are out now\n"
     ]
    }
   ],
   "source": [
    "condition= True\n",
    "while condition:\n",
    "    num=input(\"enter number: \")\n",
    "    if num==\"q\":\n",
    "        print(\"you are out now\")\n",
    "        condition =False \n",
    "    else:\n",
    "        print (\"the square of the number is\", int(num)**2)"
   ]
  },
  {
   "cell_type": "code",
   "execution_count": 10,
   "metadata": {},
   "outputs": [
    {
     "name": "stdout",
     "output_type": "stream",
     "text": [
      "enter number: q\n",
      "you are out now\n"
     ]
    }
   ],
   "source": [
    "condition= True\n",
    "while condition:\n",
    "    num=input(\"enter number: \")\n",
    "    if num==\"q\":\n",
    "        print(\"you are out now\")\n",
    "        condition =False \n",
    "    else:\n",
    "        print (\"the square of the number is\", int(num)**2)"
   ]
  },
  {
   "cell_type": "code",
   "execution_count": 11,
   "metadata": {},
   "outputs": [
    {
     "name": "stdout",
     "output_type": "stream",
     "text": [
      "enter number: q\n",
      "you are out now\n"
     ]
    }
   ],
   "source": [
    "condition= True\n",
    "while condition:\n",
    "    num=input(\"enter number: \")\n",
    "    if num==\"q\":\n",
    "        print(\"you are out now\")\n",
    "        condition =False \n",
    "    else:\n",
    "        print (\"the square of the number is\", int(num)**2)"
   ]
  },
  {
   "cell_type": "code",
   "execution_count": 3,
   "metadata": {},
   "outputs": [
    {
     "name": "stdout",
     "output_type": "stream",
     "text": [
      "enter 1st number: 25\n",
      "enter 2nd number: 25\n",
      "what operation do you want? \n",
      "press one for addition \n",
      "press two for substruction \n",
      "press three for multiplication \n",
      "press four for division \n",
      "press 5 for quite: 1\n",
      "50\n",
      "enter 1st number: 1\n",
      "enter 2nd number: 1\n",
      "what operation do you want? \n",
      "press one for addition \n",
      "press two for substruction \n",
      "press three for multiplication \n",
      "press four for division \n",
      "press 5 for quite: 5\n",
      "you are quite now\n"
     ]
    }
   ],
   "source": [
    "condition=True\n",
    "while condition:\n",
    "    numb1=int(input(\"enter 1st number: \"))\n",
    "    numb2=int(input(\"enter 2nd number: \"))\n",
    "    opper=input(\"what operation do you want? \\npress one for addition \\npress two for substruction \\npress three for multiplication \\npress four for division \\npress 5 for quite: \" )\n",
    "    if opper=='1':\n",
    "        answer=numb1+numb2\n",
    "        print(answer)\n",
    "    elif opper=='2':\n",
    "        answer=numb1-numb2\n",
    "        print(answer)\n",
    "        \n",
    "    elif opper=='3':\n",
    "        answer=numb1*numb2\n",
    "        print(answer)\n",
    "        \n",
    "    elif opper=='4':\n",
    "        answer=numb1/numb2\n",
    "        print(answer)\n",
    "    else:\n",
    "        opper=='5'\n",
    "        print (\"you are quite now\")\n",
    "        break\n",
    "               \n",
    "   \n",
    " \n",
    "        "
   ]
  },
  {
   "cell_type": "code",
   "execution_count": 4,
   "metadata": {},
   "outputs": [
    {
     "name": "stdout",
     "output_type": "stream",
     "text": [
      "Thanks for Using Our Service\n"
     ]
    }
   ],
   "source": [
    "from IPython.display  import clear_output\n",
    "cond=True\n",
    "while cond:\n",
    "    clear_output()\n",
    "    numb1=int(input('Press first number='))\n",
    "    numb2=int(input('Press second number='))\n",
    "    oper=input('What Operation Do You Want to Perform?\\nPress 1 for Addition\\nPress2 for Subtraction \\nPress 3 for Multiplication\\nPress 4 for Division')\n",
    "    if oper=='1':\n",
    "        ans=numb1+numb2\n",
    "        print('Addition=',ans)\n",
    "    elif oper=='2':\n",
    "        ans=numb1-numb2\n",
    "        print('Subtraction=',ans)\n",
    "    elif oper=='3':\n",
    "        ans=numb1*numb2\n",
    "        print('Multiplication=',ans)\n",
    "    elif oper=='4':\n",
    "        ans=numb1/numb2\n",
    "        print('Division=',ans)\n",
    "    else:\n",
    "        print('Invalid Operation')\n",
    "    opt=input('Do You Want Another Calculation? Press Y/N').upper()\n",
    "    if opt=='Y':\n",
    "        cond=True\n",
    "    else:\n",
    "        clear_output()\n",
    "        print('Thanks for Using Our Service')\n",
    "        cond=False"
   ]
  },
  {
   "cell_type": "code",
   "execution_count": null,
   "metadata": {},
   "outputs": [],
   "source": []
  }
 ],
 "metadata": {
  "kernelspec": {
   "display_name": "Python 3",
   "language": "python",
   "name": "python3"
  }
 },
 "nbformat": 4,
 "nbformat_minor": 2
}
