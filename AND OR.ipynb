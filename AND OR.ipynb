{
 "cells": [
  {
   "cell_type": "code",
   "execution_count": 1,
   "metadata": {},
   "outputs": [
    {
     "name": "stdout",
     "output_type": "stream",
     "text": [
      "ask from your wife.\n",
      " allow you to go stadium? y/n y\n",
      "do you have tickets: [y/n]y\n",
      "enter your age:18\n",
      "\n",
      "you are allow for match\n"
     ]
    }
   ],
   "source": [
    "Ijazat = input(\"ask from your wife.\\n allow you to go stadium? y/n \").upper()\n",
    "Tickets= input(\"do you have tickets: [y/n]\").upper()\n",
    "age=int(input(\"enter your age:\"))\n",
    "\n",
    "if age>=18 and Ijazat == \"Y\" and Tickets== \"Y\":\n",
    "    print(\"\\nyou are allow for match\")\n",
    "else: \n",
    "    print(\"\\nget loss from here...\\ngo to home and watch tv\")\n"
   ]
  },
  {
   "cell_type": "code",
   "execution_count": 2,
   "metadata": {},
   "outputs": [
    {
     "name": "stdout",
     "output_type": "stream",
     "text": [
      "\tvote casting\n",
      "\n",
      "enter your age18\n",
      "please enter your CNIC 545646\n",
      "have you CNIC right now: [Y/N] y\n",
      "please enter your city name herekarachi\n",
      "go and cast your vote\n"
     ]
    }
   ],
   "source": [
    "print (\"\\tvote casting\\n\")\n",
    "age=int(input(\"enter your age\"))\n",
    "CNIC=input(\"please enter your CNIC \")\n",
    "remainage = 18 -age\n",
    "\n",
    "if age>=18:\n",
    "    CNIC_available=input(\"have you CNIC right now: [Y/N] \").upper()\n",
    "    City=input(\"please enter your city name here\")\n",
    "    if CNIC_available=='Y' or city =='karachi':\n",
    "        print (\"go and cast your vote\")\n",
    "    else: \n",
    "        print (\"your are not allowed\")\n",
    "else:\n",
    "    print (\"your are under age\")\n",
    "    print (\"your will be cast vote after\" + str(remainage)+ \"years\" )"
   ]
  },
  {
   "cell_type": "code",
   "execution_count": 10,
   "metadata": {},
   "outputs": [
    {
     "data": {
      "text/plain": [
       "'khi'"
      ]
     },
     "execution_count": 10,
     "metadata": {},
     "output_type": "execute_result"
    }
   ],
   "source": [
    "mylist =[\"khi\", \"lhr\", \"quta\", \"larkana\", \"pesahwar\"]\n",
    "mylist[0]\n",
    "len"
   ]
  },
  {
   "cell_type": "code",
   "execution_count": 6,
   "metadata": {},
   "outputs": [],
   "source": []
  },
  {
   "cell_type": "code",
   "execution_count": null,
   "metadata": {},
   "outputs": [],
   "source": []
  }
 ],
 "metadata": {
  "kernelspec": {
   "display_name": "Python 3",
   "language": "python",
   "name": "python3"
  },
  "language_info": {
   "codemirror_mode": {
    "name": "ipython",
    "version": 3
   },
   "file_extension": ".py",
   "mimetype": "text/x-python",
   "name": "python",
   "nbconvert_exporter": "python",
   "pygments_lexer": "ipython3",
   "version": "3.7.1"
  }
 },
 "nbformat": 4,
 "nbformat_minor": 2
}
