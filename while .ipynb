{
 "cells": [
  {
   "cell_type": "code",
   "execution_count": null,
   "metadata": {},
   "outputs": [],
   "source": [
    "while True:\n",
    "    a = int(input(\"Enter for money: \"))\n",
    "    if a == 0:\n",
    "        print(\"you have zero cash\")\n",
    "    else:\n",
    "        print(\"hahahahah\")\n",
    "        break"
   ]
  },
  {
   "cell_type": "code",
   "execution_count": null,
   "metadata": {},
   "outputs": [],
   "source": [
    "prompt = \"Tell me something i'll repeat to you: \"\n",
    "prompt += \"\\nEnter 'quit' to close the program.\"\n",
    "message = ''\n",
    "while message != 'quit':\n",
    "    message = input(prompt).lower()\n",
    "    print(message)"
   ]
  },
  {
   "cell_type": "code",
   "execution_count": null,
   "metadata": {},
   "outputs": [],
   "source": [
    "print(\"Enter your today schedule\")\n",
    "print(\"Enter Done when done with scheduling\")\n",
    "\n",
    "todo_list = []\n",
    "while True:\n",
    "    list = input(\">  \")\n",
    "    if list == 'quit':\n",
    "        break\n",
    "    todo_list.append(list)\n",
    "\n",
    "\n",
    "print(\"\\nHere is your all day schedule\")\n",
    "for todo in todo_list:\n",
    "    print(todo.title())"
   ]
  },
  {
   "cell_type": "code",
   "execution_count": null,
   "metadata": {},
   "outputs": [],
   "source": [
    "while True:\n",
    "    city = input(\"\\nEnter the name of the city you want to visit? \\nEnter 'quit' to close the program: \" ).lower()\n",
    "    if city == 'quit':\n",
    "        break\n",
    "    else:\n",
    "        print(\"I will love to go to \" + city.title() + '...' )"
   ]
  },
  {
   "cell_type": "code",
   "execution_count": null,
   "metadata": {},
   "outputs": [],
   "source": [
    "CleanCity = ['karachi' , 'Santa Fe' , 'Tucson' , 'Great Falls']\n",
    "user_input = \"\"\n",
    "while user_input != 'q':\n",
    "    user_input = input('Enter a name of the city , or press \"q\" to terminate the program: ')\n",
    "    if user_input != \"q\":\n",
    "        for CleanCitys in CleanCity:\n",
    "            if user_input == CleanCitys:\n",
    "                print(\"It's one of yhe cleanest city.\")\n",
    "                break\n",
    "    else:\n",
    "        print(\"It's not a cleanest city\")\n",
    "        break"
   ]
  },
  {
   "cell_type": "code",
   "execution_count": null,
   "metadata": {},
   "outputs": [],
   "source": [
    "current_number=0\n",
    "while current_number<10:\n",
    "    current_number+=1\n",
    "    if current_number%2==0:\n",
    "        continue \n",
    "    print(current_number)"
   ]
  },
  {
   "cell_type": "code",
   "execution_count": null,
   "metadata": {},
   "outputs": [],
   "source": [
    "flavour=''\n",
    "\n",
    "size=''\n",
    "\n",
    "topping=\"\"\n",
    "\n",
    "while flavour != 'q':\n",
    "    print (\"which type of pizza do you want\")\n",
    "    flavour = input('Enter a name of the flavour , or press \"q\" to terminate the program: ').title()\n",
    "    if flavour == \"quite\":\n",
    "        break\n",
    "    else:\n",
    "        print (\"your flaour is \",flavour)\n",
    "    print (\"which size do you want?\")\n",
    "    size = input('Enter a name of the size , or press \"q\" to terminate the program: ').title()\n",
    "    if size == \"q\":\n",
    "        break\n",
    "    else:\n",
    "        print (\"your size is \", size)\n",
    "        while topping != \"Q\":\n",
    "            print(\"enter your topping\")\n",
    "            topping = input('Enter a name of the topping , or press \"q\" to terminate the program: ').title()\n",
    "            \n",
    "\n",
    "       "
   ]
  },
  {
   "cell_type": "code",
   "execution_count": null,
   "metadata": {},
   "outputs": [],
   "source": [
    "    \n",
    "    opt=input('Do You Want Another pizza? Press Y/N').upper()\n",
    "    if opt=='Y':\n",
    "        cond=True\n",
    "    else:\n",
    "        clear_output()\n",
    "        print('Thanks for Using Our Service')\n",
    "        cond=False\n"
   ]
  },
  {
   "cell_type": "code",
   "execution_count": null,
   "metadata": {},
   "outputs": [],
   "source": [
    "print (size)"
   ]
  },
  {
   "cell_type": "code",
   "execution_count": null,
   "metadata": {},
   "outputs": [],
   "source": [
    "flavour=''\n",
    "\n",
    "size=''\n",
    "\n",
    "topping=\"\"\n",
    "\n",
    "\n",
    "while flavour != 'q':\n",
    "    print (\"which type of pizza do you want\")\n",
    "    flavour = input('Enter a name of the flavour , or press \"q\" to terminate the program: ').title()\n",
    "    if flavour == \"quite\":\n",
    "        break\n",
    "    else:\n",
    "        print (\"your flaour is \",flavour)\n",
    "    print (\"which size do you want?\")\n",
    "    size = input('Enter a name of the size , or press \"q\" to terminate the program: ').title()\n",
    "    if size == \"q\":\n",
    "        break\n",
    "    else:\n",
    "        print (\"your size is \", size)\n",
    "        while topping != \"Q\":\n",
    "            print(\"enter your topping\")\n",
    "            topping = input('Enter a name of the topping , or press \"q\" to terminate the program: ').title()\n",
    "            if topping==\"Q\":\n",
    "                print (\"your topping is \" + topping)\n",
    "                \n",
    "    print (\"do you want another pizza\")\n",
    "    continue "
   ]
  },
  {
   "cell_type": "code",
   "execution_count": null,
   "metadata": {},
   "outputs": [],
   "source": []
  }
 ],
 "metadata": {
  "kernelspec": {
   "display_name": "Python 3",
   "language": "python",
   "name": "python3"
  },
  "language_info": {
   "codemirror_mode": {
    "name": "ipython",
    "version": 3
   },
   "file_extension": ".py",
   "mimetype": "text/x-python",
   "name": "python",
   "nbconvert_exporter": "python",
   "pygments_lexer": "ipython3",
   "version": "3.7.1"
  }
 },
 "nbformat": 4,
 "nbformat_minor": 2
}
